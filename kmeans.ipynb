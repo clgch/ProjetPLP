{
 "cells": [
  {
   "cell_type": "code",
   "execution_count": 1,
   "metadata": {},
   "outputs": [],
   "source": [
    "import pandas as pd\n",
    "import numpy as np"
   ]
  },
  {
   "cell_type": "code",
   "execution_count": 2,
   "metadata": {},
   "outputs": [],
   "source": [
    "PATH_TO_DATA = \"/media/horace/OS/Users/Horace/Documents/Centrale/3A/plp/taxi_fares/ProjetPLP/\""
   ]
  },
  {
   "cell_type": "code",
   "execution_count": 3,
   "metadata": {},
   "outputs": [],
   "source": [
    "import findspark\n",
    "findspark.init(\"/home/horace/spark-2.3.1-bin-hadoop2.7/\")\n",
    "\n",
    "import pyspark\n",
    "from pyspark.sql import SparkSession\n",
    "spark = SparkSession.builder.getOrCreate()"
   ]
  },
  {
   "cell_type": "code",
   "execution_count": 4,
   "metadata": {},
   "outputs": [
    {
     "data": {
      "text/plain": [
       "[array([  4.5     , -73.844311,  40.721319, -73.84161 ,  40.712278,\n",
       "          1.      ]),\n",
       " array([ 16.9     , -74.016048,  40.711303, -73.979268,  40.782004,\n",
       "          1.      ]),\n",
       " array([  5.7     , -73.982738,  40.76127 , -73.991242,  40.750562,\n",
       "          2.      ]),\n",
       " array([  7.7     , -73.98713 ,  40.733143, -73.991567,  40.758092,\n",
       "          1.      ])]"
      ]
     },
     "execution_count": 4,
     "metadata": {},
     "output_type": "execute_result"
    }
   ],
   "source": [
    "from operator import add\n",
    "\n",
    "def read_data(nrows=10**4):\n",
    "    return (spark\n",
    "            .read\n",
    "            .format(\"csv\")\n",
    "            .option(\"header\",\"true\")\n",
    "            .load(PATH_TO_DATA + \"train.csv\")\n",
    "            .limit(nrows)\n",
    "            .drop(\"key\")\n",
    "            .drop(\"pickup_datetime\")\n",
    "            .rdd\n",
    "            .map(lambda r: np.array(r, dtype=float))\n",
    "           )\n",
    "\n",
    "def standardize(data):\n",
    "    m = data.mean()\n",
    "    s = np.sqrt(data.map(lambda a: (a - m)**2).reduce(add) / data.count())\n",
    "    return data.map(lambda a: (a - m) / s)\n",
    "\n",
    "data = read_data()\n",
    "data.take(4)"
   ]
  },
  {
   "cell_type": "code",
   "execution_count": 5,
   "metadata": {},
   "outputs": [
    {
     "data": {
      "text/plain": [
       "[array([  5.7     , -73.988873,  40.727102, -74.002665,  40.739143,\n",
       "          1.      ]),\n",
       " array([  7.7     , -73.950808,  40.831861, -73.987036,  40.776786,\n",
       "          1.      ]),\n",
       " array([  8.5       , -74.00982666,  40.71247482, -73.99652863,\n",
       "         40.7322731 ,   1.        ])]"
      ]
     },
     "execution_count": 5,
     "metadata": {},
     "output_type": "execute_result"
    }
   ],
   "source": [
    "def assign_cluster(x, centers):\n",
    "    center_ix = 0\n",
    "    min_dist = np.inf\n",
    "    for i, c in enumerate(centers):\n",
    "        new_dist = np.sum((x - c)**2)\n",
    "        if new_dist < min_dist:\n",
    "            min_dist = new_dist\n",
    "            center_ix = i\n",
    "    return center_ix\n",
    "\n",
    "centers = data.takeSample(False, 3, seed=42)\n",
    "centers"
   ]
  },
  {
   "cell_type": "code",
   "execution_count": 6,
   "metadata": {},
   "outputs": [
    {
     "data": {
      "text/plain": [
       "[(0, (array([  4.5     , -73.844311,  40.721319, -73.84161 ,  40.712278,\n",
       "            1.      ]), 1)),\n",
       " (2, (array([ 16.9     , -74.016048,  40.711303, -73.979268,  40.782004,\n",
       "            1.      ]), 1)),\n",
       " (0, (array([  5.7     , -73.982738,  40.76127 , -73.991242,  40.750562,\n",
       "            2.      ]), 1)),\n",
       " (1, (array([  7.7     , -73.98713 ,  40.733143, -73.991567,  40.758092,\n",
       "            1.      ]), 1)),\n",
       " (0, (array([  5.3     , -73.968095,  40.768008, -73.956655,  40.783762,\n",
       "            1.      ]), 1))]"
      ]
     },
     "execution_count": 6,
     "metadata": {},
     "output_type": "execute_result"
    }
   ],
   "source": [
    "labeled_points = data.map(lambda x: (assign_cluster(x, centers), (x, 1)))\n",
    "labeled_points.take(5)"
   ]
  },
  {
   "cell_type": "markdown",
   "metadata": {},
   "source": [
    "On voit qu'ici, ce qui domine la classification est le _fare amount_ (première composante)"
   ]
  },
  {
   "cell_type": "code",
   "execution_count": 7,
   "metadata": {},
   "outputs": [
    {
     "data": {
      "text/plain": [
       "[(0, (array([  17565.01      , -245378.87488157,  135074.24921016,\n",
       "          -245452.80644183,  135076.7668574 ,    5522.        ]), 3400)),\n",
       " (2, (array([  84830.03      , -379638.79974669,  208872.70347547,\n",
       "          -379777.87779615,  208959.86191631,    8720.        ]), 5253)),\n",
       " (1,\n",
       "  (array([  9959.6       , -99648.9302082 ,  55257.53080745, -99510.25648403,\n",
       "           54896.1800131 ,   2205.        ]), 1347))]"
      ]
     },
     "execution_count": 7,
     "metadata": {},
     "output_type": "execute_result"
    }
   ],
   "source": [
    "sum_clusters = (labeled_points\n",
    "            .reduceByKey(lambda a, b: (a[0] + b[0], a[1] + b[1]))  # sum coordinates and keep count\n",
    "           )\n",
    "sum_clusters.collect()"
   ]
  },
  {
   "cell_type": "code",
   "execution_count": 8,
   "metadata": {},
   "outputs": [
    {
     "data": {
      "text/plain": [
       "[(0, array([  5.16617941, -72.17025732,  39.72772036, -72.19200189,\n",
       "          39.72846084,   1.62411765])),\n",
       " (2, array([ 16.14887302, -72.2708547 ,  39.76255539, -72.29733063,\n",
       "          39.77914752,   1.66000381])),\n",
       " (1, array([  7.3939124 , -73.97841886,  41.02266578, -73.87546881,\n",
       "          40.75440239,   1.63697105]))]"
      ]
     },
     "execution_count": 8,
     "metadata": {},
     "output_type": "execute_result"
    }
   ],
   "source": [
    "clusters = sum_clusters.map(lambda c: (c[0], c[1][0] / c[1][1])).collect()  # take the mean\n",
    "clusters"
   ]
  },
  {
   "cell_type": "markdown",
   "metadata": {},
   "source": [
    "On rassemble les requêtes dans une fonction"
   ]
  },
  {
   "cell_type": "code",
   "execution_count": 15,
   "metadata": {},
   "outputs": [
    {
     "data": {
      "text/plain": [
       "[(0, array([  5.16617941, -72.17025732,  39.72772036, -72.19200189,\n",
       "          39.72846084,   1.62411765])),\n",
       " (2, array([ 16.14887302, -72.2708547 ,  39.76255539, -72.29733063,\n",
       "          39.77914752,   1.66000381])),\n",
       " (1, array([  7.3939124 , -73.97841886,  41.02266578, -73.87546881,\n",
       "          40.75440239,   1.63697105]))]"
      ]
     },
     "execution_count": 15,
     "metadata": {},
     "output_type": "execute_result"
    }
   ],
   "source": [
    "def update_centers(data, centers):\n",
    "    return (data\n",
    "     .map(lambda x: (assign_cluster(x, centers), (x, 1)))  # label each point\n",
    "     .reduceByKey(lambda a, b: (a[0] + b[0], a[1] + b[1]))  # sum coordinates and keep count\n",
    "     .map(lambda c: (c[0], c[1][0] / c[1][1]))  # take the mean\n",
    "     .collect()\n",
    "    )\n",
    "\n",
    "update_centers(data, centers)"
   ]
  },
  {
   "cell_type": "code",
   "execution_count": 22,
   "metadata": {},
   "outputs": [
    {
     "data": {
      "text/plain": [
       "0    7891\n",
       "2    1407\n",
       "1     702\n",
       "dtype: int64"
      ]
     },
     "execution_count": 22,
     "metadata": {},
     "output_type": "execute_result"
    }
   ],
   "source": [
    "def iterate_centers(data, k, tol=100, max_iter=100, seed=40):\n",
    "    centers = data.takeSample(False, k, seed=seed)\n",
    "    cost = tol + 1\n",
    "    nb_iter = 0\n",
    "    while cost > tol and nb_iter < max_iter:\n",
    "        new_centers = update_centers(data, centers)\n",
    "        cost = sum(np.sum((centers[ix] - x)**2) for (ix, x) in new_centers) / k\n",
    "        for ix, x in new_centers:\n",
    "            centers[ix] = x\n",
    "        nb_iter += 1\n",
    "    return centers, nb_iter\n",
    "\n",
    "class KMeans:\n",
    "    def __init__(self, k=3, tol=1, max_iter=100, random_state=40):\n",
    "        self.k = k\n",
    "        self.tol = tol\n",
    "        self.centers = None\n",
    "        self.nb_iter = None\n",
    "        self.max_iter = max_iter\n",
    "        self.random_state = random_state\n",
    "        \n",
    "    def fit(self, data):\n",
    "        self.centers, self.nb_iter = iterate_centers(data, self.k, \n",
    "                                                     tol=self.tol, \n",
    "                                                     max_iter=self.max_iter, \n",
    "                                                     seed=self.random_state)\n",
    "        return self\n",
    "    \n",
    "    def predict(self, data):\n",
    "        return data.map(lambda x: assign_cluster(x, self.centers))\n",
    "\n",
    "data = standardize(read_data())\n",
    "km = KMeans(3, 0.001)\n",
    "y = km.fit(data).predict(data)\n",
    "pd.Series(y.collect()).value_counts()"
   ]
  },
  {
   "cell_type": "code",
   "execution_count": 23,
   "metadata": {},
   "outputs": [
    {
     "data": {
      "text/plain": [
       "9"
      ]
     },
     "execution_count": 23,
     "metadata": {},
     "output_type": "execute_result"
    }
   ],
   "source": [
    "km.nb_iter"
   ]
  },
  {
   "cell_type": "code",
   "execution_count": 24,
   "metadata": {},
   "outputs": [
    {
     "data": {
      "text/plain": [
       "[0, 0, 0, 0, 0]"
      ]
     },
     "execution_count": 24,
     "metadata": {},
     "output_type": "execute_result"
    }
   ],
   "source": [
    "y.take(5)"
   ]
  },
  {
   "cell_type": "code",
   "execution_count": 25,
   "metadata": {},
   "outputs": [
    {
     "data": {
      "text/plain": [
       "[array([-0.23087409,  0.01458125, -0.01804591,  0.01627396, -0.01648188,\n",
       "        -0.38099263]),\n",
       " array([ 2.89106344, -0.03776958,  0.03219866, -0.0481574 ,  0.05117503,\n",
       "        -0.11719441]),\n",
       " array([-0.14749989, -0.06304311,  0.0852903 , -0.06736218,  0.06702248,\n",
       "         2.19889345])]"
      ]
     },
     "execution_count": 25,
     "metadata": {},
     "output_type": "execute_result"
    }
   ],
   "source": [
    "km.centers"
   ]
  },
  {
   "cell_type": "code",
   "execution_count": 26,
   "metadata": {},
   "outputs": [
    {
     "data": {
      "text/plain": [
       "[array([-0.70279833, -0.12985434,  0.10942999, -0.12926455,  0.12918747,\n",
       "        -0.50717233]),\n",
       " array([ 0.59105452, -0.1460419 ,  0.10806142, -0.14227668,  0.14018595,\n",
       "        -0.50717233]),\n",
       " array([-0.57758676, -0.14290217,  0.11488885, -0.14340852,  0.13522633,\n",
       "         0.27950726]),\n",
       " array([-0.36890082, -0.14331615,  0.11104561, -0.14343924,  0.1364141 ,\n",
       "        -0.50717233]),\n",
       " array([-0.61932395, -0.14152195,  0.11580952, -0.14013918,  0.14046325,\n",
       "        -0.50717233])]"
      ]
     },
     "execution_count": 26,
     "metadata": {},
     "output_type": "execute_result"
    }
   ],
   "source": [
    "data.take(5)"
   ]
  },
  {
   "cell_type": "code",
   "execution_count": null,
   "metadata": {},
   "outputs": [],
   "source": []
  }
 ],
 "metadata": {
  "kernelspec": {
   "display_name": "Python 3",
   "language": "python",
   "name": "python3"
  },
  "language_info": {
   "codemirror_mode": {
    "name": "ipython",
    "version": 3
   },
   "file_extension": ".py",
   "mimetype": "text/x-python",
   "name": "python",
   "nbconvert_exporter": "python",
   "pygments_lexer": "ipython3",
   "version": "3.7.1"
  }
 },
 "nbformat": 4,
 "nbformat_minor": 2
}
